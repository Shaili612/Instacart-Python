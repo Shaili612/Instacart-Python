{
 "cells": [
  {
   "cell_type": "markdown",
   "id": "2a9f47de",
   "metadata": {},
   "source": [
    "# Import libraries"
   ]
  },
  {
   "cell_type": "code",
   "execution_count": 2,
   "id": "657ba307",
   "metadata": {},
   "outputs": [],
   "source": [
    "# Import libraries\n",
    "import pandas as pd\n",
    "import numpy as np\n",
    "import os"
   ]
  },
  {
   "cell_type": "markdown",
   "id": "5efed66e",
   "metadata": {},
   "source": [
    "# Data types"
   ]
  },
  {
   "cell_type": "code",
   "execution_count": 3,
   "id": "3ce4d39b",
   "metadata": {},
   "outputs": [],
   "source": [
    "x = 25"
   ]
  },
  {
   "cell_type": "code",
   "execution_count": 5,
   "id": "f4062340",
   "metadata": {},
   "outputs": [
    {
     "data": {
      "text/plain": [
       "100"
      ]
     },
     "execution_count": 5,
     "metadata": {},
     "output_type": "execute_result"
    }
   ],
   "source": [
    "x * 4"
   ]
  },
  {
   "cell_type": "code",
   "execution_count": 6,
   "id": "80b37236",
   "metadata": {},
   "outputs": [],
   "source": [
    "y = 50"
   ]
  },
  {
   "cell_type": "code",
   "execution_count": 7,
   "id": "69bb5d1e",
   "metadata": {},
   "outputs": [
    {
     "data": {
      "text/plain": [
       "100"
      ]
     },
     "execution_count": 7,
     "metadata": {},
     "output_type": "execute_result"
    }
   ],
   "source": [
    "y + y"
   ]
  },
  {
   "cell_type": "code",
   "execution_count": 9,
   "id": "5a935bb4",
   "metadata": {},
   "outputs": [],
   "source": [
    "z = 200"
   ]
  },
  {
   "cell_type": "code",
   "execution_count": 10,
   "id": "6c75e5e3",
   "metadata": {},
   "outputs": [
    {
     "data": {
      "text/plain": [
       "100.0"
      ]
     },
     "execution_count": 10,
     "metadata": {},
     "output_type": "execute_result"
    }
   ],
   "source": [
    "z / 2"
   ]
  },
  {
   "cell_type": "code",
   "execution_count": 11,
   "id": "036abf4d",
   "metadata": {},
   "outputs": [],
   "source": [
    "a = 75.924"
   ]
  },
  {
   "cell_type": "code",
   "execution_count": 12,
   "id": "d8888aed",
   "metadata": {},
   "outputs": [],
   "source": [
    "b = 34.856"
   ]
  },
  {
   "cell_type": "code",
   "execution_count": 13,
   "id": "ce905656",
   "metadata": {},
   "outputs": [
    {
     "data": {
      "text/plain": [
       "2.178218957998623"
      ]
     },
     "execution_count": 13,
     "metadata": {},
     "output_type": "execute_result"
    }
   ],
   "source": [
    "a / b"
   ]
  },
  {
   "cell_type": "code",
   "execution_count": 14,
   "id": "442e3771",
   "metadata": {},
   "outputs": [],
   "source": [
    "c = 'Career '"
   ]
  },
  {
   "cell_type": "code",
   "execution_count": 15,
   "id": "dcda83fe",
   "metadata": {},
   "outputs": [],
   "source": [
    "d = 'Foundry'"
   ]
  },
  {
   "cell_type": "code",
   "execution_count": 16,
   "id": "ea407c52",
   "metadata": {},
   "outputs": [
    {
     "data": {
      "text/plain": [
       "'Career Foundry'"
      ]
     },
     "execution_count": 16,
     "metadata": {},
     "output_type": "execute_result"
    }
   ],
   "source": [
    "c + d"
   ]
  },
  {
   "cell_type": "code",
   "execution_count": 17,
   "id": "41e242bc",
   "metadata": {},
   "outputs": [],
   "source": [
    "e = 'Good '"
   ]
  },
  {
   "cell_type": "code",
   "execution_count": 18,
   "id": "e731e4c0",
   "metadata": {},
   "outputs": [],
   "source": [
    "f = 'Evening, '"
   ]
  },
  {
   "cell_type": "code",
   "execution_count": 20,
   "id": "37cb2b77",
   "metadata": {},
   "outputs": [],
   "source": [
    "g = 'Job, '"
   ]
  },
  {
   "cell_type": "code",
   "execution_count": 21,
   "id": "a0b68a2c",
   "metadata": {},
   "outputs": [],
   "source": [
    "h = 'Students'"
   ]
  },
  {
   "cell_type": "code",
   "execution_count": 22,
   "id": "18aac9a3",
   "metadata": {},
   "outputs": [
    {
     "data": {
      "text/plain": [
       "'Good Evening, Students'"
      ]
     },
     "execution_count": 22,
     "metadata": {},
     "output_type": "execute_result"
    }
   ],
   "source": [
    "e + f + h"
   ]
  },
  {
   "cell_type": "code",
   "execution_count": 24,
   "id": "82af332d",
   "metadata": {},
   "outputs": [
    {
     "data": {
      "text/plain": [
       "'Good Job, Students'"
      ]
     },
     "execution_count": 24,
     "metadata": {},
     "output_type": "execute_result"
    }
   ],
   "source": [
    "e + g + h"
   ]
  },
  {
   "cell_type": "code",
   "execution_count": 25,
   "id": "04b9425d",
   "metadata": {},
   "outputs": [
    {
     "data": {
      "text/plain": [
       "'Career Career Career Career Career Career Career Career Career Career Career Career Career Career Career Career Career Career Career Career Career Career Career Career Career Career Career Career Career Career Career Career Career Career Career Career Career Career Career Career Career Career Career Career Career Career Career Career Career Career Career Career Career Career Career Career Career Career Career Career Career Career Career Career Career Career Career Career Career Career Career Career Career Career Career Career Career Career Career Career Career Career Career Career Career Career Career Career Career Career Career Career Career Career Career Career Career Career Career Career '"
      ]
     },
     "execution_count": 25,
     "metadata": {},
     "output_type": "execute_result"
    }
   ],
   "source": [
    "c * 100"
   ]
  },
  {
   "cell_type": "code",
   "execution_count": null,
   "id": "0315e921",
   "metadata": {},
   "outputs": [],
   "source": []
  }
 ],
 "metadata": {
  "kernelspec": {
   "display_name": "Python 3 (ipykernel)",
   "language": "python",
   "name": "python3"
  },
  "language_info": {
   "codemirror_mode": {
    "name": "ipython",
    "version": 3
   },
   "file_extension": ".py",
   "mimetype": "text/x-python",
   "name": "python",
   "nbconvert_exporter": "python",
   "pygments_lexer": "ipython3",
   "version": "3.10.9"
  }
 },
 "nbformat": 4,
 "nbformat_minor": 5
}
